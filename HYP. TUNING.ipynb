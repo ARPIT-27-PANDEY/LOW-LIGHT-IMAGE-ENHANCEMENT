{
 "cells": [
  {
   "cell_type": "markdown",
   "id": "9c914fe5",
   "metadata": {
    "papermill": {
     "duration": 0.008035,
     "end_time": "2024-06-17T19:06:23.482222",
     "exception": false,
     "start_time": "2024-06-17T19:06:23.474187",
     "status": "completed"
    },
    "tags": []
   },
   "source": [
    "# *****IMPORTING LIBRARIES*****"
   ]
  },
  {
   "cell_type": "code",
   "execution_count": 1,
   "id": "6da29dd5",
   "metadata": {
    "execution": {
     "iopub.execute_input": "2024-06-17T19:06:23.498503Z",
     "iopub.status.busy": "2024-06-17T19:06:23.498164Z",
     "iopub.status.idle": "2024-06-17T19:06:29.811952Z",
     "shell.execute_reply": "2024-06-17T19:06:29.811090Z"
    },
    "papermill": {
     "duration": 6.324473,
     "end_time": "2024-06-17T19:06:29.814294",
     "exception": false,
     "start_time": "2024-06-17T19:06:23.489821",
     "status": "completed"
    },
    "tags": []
   },
   "outputs": [],
   "source": [
    "import os\n",
    "import cv2\n",
    "import torch\n",
    "import torch.nn as nn\n",
    "import torch.nn.functional as F\n",
    "import torch.optim as optim\n",
    "from torch.utils.data import DataLoader, Dataset\n",
    "import torchvision.transforms as transforms\n",
    "from PIL import Image\n",
    "import numpy as np\n",
    "from skimage.metrics import peak_signal_noise_ratio as psnr\n"
   ]
  },
  {
   "cell_type": "markdown",
   "id": "2a3edd69",
   "metadata": {
    "papermill": {
     "duration": 0.008264,
     "end_time": "2024-06-17T19:06:29.830126",
     "exception": false,
     "start_time": "2024-06-17T19:06:29.821862",
     "status": "completed"
    },
    "tags": []
   },
   "source": [
    "# *****IMAGE PRE-PROCESSING*****"
   ]
  },
  {
   "cell_type": "code",
   "execution_count": 2,
   "id": "4ee999df",
   "metadata": {
    "execution": {
     "iopub.execute_input": "2024-06-17T19:06:29.846246Z",
     "iopub.status.busy": "2024-06-17T19:06:29.845838Z",
     "iopub.status.idle": "2024-06-17T19:06:29.861669Z",
     "shell.execute_reply": "2024-06-17T19:06:29.860918Z"
    },
    "papermill": {
     "duration": 0.026143,
     "end_time": "2024-06-17T19:06:29.863518",
     "exception": false,
     "start_time": "2024-06-17T19:06:29.837375",
     "status": "completed"
    },
    "tags": []
   },
   "outputs": [],
   "source": [
    "\n",
    "class CustomDataset(Dataset):\n",
    "    def __init__(self, low_image_paths, high_image_paths, transform=None, gamma=None):\n",
    "        self.low_image_paths = low_image_paths\n",
    "        self.high_image_paths = high_image_paths\n",
    "        self.transform = transform\n",
    "        self.gamma = gamma\n",
    "\n",
    "        assert len(self.low_image_paths) == len(self.high_image_paths), \"Low and High image directories must contain the same number of images.\"\n",
    "\n",
    "    def __len__(self):\n",
    "        return len(self.low_image_paths)\n",
    "\n",
    "    def __getitem__(self, idx):\n",
    "        low_img_path = self.low_image_paths[idx]\n",
    "        high_img_path = self.high_image_paths[idx]\n",
    "\n",
    "        try:\n",
    "            low_image = Image.open(low_img_path).convert('RGB')\n",
    "            high_image = Image.open(high_img_path).convert('RGB')\n",
    "\n",
    "            if self.gamma:\n",
    "                low_image = self.apply_gamma_correction(low_image, self.gamma)\n",
    "                high_image = self.apply_gamma_correction(high_image, self.gamma)\n",
    "\n",
    "            low_image = self.frequency_analysis_and_denoise(low_image)\n",
    "            high_image = self.frequency_analysis_and_denoise(high_image)\n",
    "\n",
    "            if self.transform:\n",
    "                low_image = self.transform(low_image)\n",
    "                high_image = self.transform(high_image)\n",
    "\n",
    "            return low_image, high_image\n",
    "\n",
    "        except FileNotFoundError as e:\n",
    "            print(f\"File not found: {low_img_path} or {high_img_path}\")\n",
    "            raise e\n",
    "\n",
    "    def apply_gamma_correction(self, img, gamma):\n",
    "        inv_gamma = 1.0 / gamma\n",
    "        table = (torch.arange(0, 256, dtype=torch.float32) / 255.0) ** inv_gamma * 255\n",
    "        table = table.clamp(0, 255).byte().cpu().numpy()\n",
    "        img = np.array(img)\n",
    "        img = cv2.LUT(img, table)\n",
    "        return Image.fromarray(img)\n",
    "\n",
    "    def frequency_analysis_and_denoise(self, img):\n",
    "        img_np = np.array(img)\n",
    "\n",
    "        gray_img = cv2.cvtColor(img_np, cv2.COLOR_RGB2GRAY).astype(np.float32)\n",
    "\n",
    "        dft = cv2.dft(gray_img, flags=cv2.DFT_COMPLEX_OUTPUT)\n",
    "        dft_shift = np.fft.fftshift(dft)\n",
    "\n",
    "        rows, cols = gray_img.shape\n",
    "        crow, ccol = rows // 2, cols // 2\n",
    "        r = 30\n",
    "        mask = np.ones((rows, cols, 2), np.uint8)\n",
    "        center = [crow, ccol]\n",
    "        x, y = np.ogrid[:rows, :cols]\n",
    "        mask_area = (x - center[0]) ** 2 + (y - center[1]) ** 2 <= r * r\n",
    "        mask[mask_area] = 0\n",
    "\n",
    "        fshift = dft_shift * mask\n",
    "        f_ishift = np.fft.ifftshift(fshift)\n",
    "        img_back = cv2.idft(f_ishift)\n",
    "        img_back = cv2.magnitude(img_back[:, :, 0], img_back[:, :, 1])\n",
    "\n",
    "        img_back = cv2.normalize(img_back, None, alpha=0, beta=255, norm_type=cv2.NORM_MINMAX, dtype=cv2.CV_8U)\n",
    "\n",
    "        img_back = Image.fromarray(img_back).convert('RGB')\n",
    "\n",
    "        return img_back\n"
   ]
  },
  {
   "cell_type": "markdown",
   "id": "3f9bbff9",
   "metadata": {
    "papermill": {
     "duration": 0.007181,
     "end_time": "2024-06-17T19:06:29.877769",
     "exception": false,
     "start_time": "2024-06-17T19:06:29.870588",
     "status": "completed"
    },
    "tags": []
   },
   "source": [
    "# ***RESIDUAL-BLOCK CLASS***"
   ]
  },
  {
   "cell_type": "code",
   "execution_count": 3,
   "id": "52763f7b",
   "metadata": {
    "execution": {
     "iopub.execute_input": "2024-06-17T19:06:29.893244Z",
     "iopub.status.busy": "2024-06-17T19:06:29.892964Z",
     "iopub.status.idle": "2024-06-17T19:06:29.901053Z",
     "shell.execute_reply": "2024-06-17T19:06:29.900212Z"
    },
    "papermill": {
     "duration": 0.017871,
     "end_time": "2024-06-17T19:06:29.902872",
     "exception": false,
     "start_time": "2024-06-17T19:06:29.885001",
     "status": "completed"
    },
    "tags": []
   },
   "outputs": [],
   "source": [
    "class ResidualBlock(nn.Module):\n",
    "    def __init__(self, in_channels, out_channels):\n",
    "        super(ResidualBlock, self).__init__()\n",
    "        self.conv1 = nn.Conv2d(in_channels, out_channels, kernel_size=3, padding=1)\n",
    "        self.bn1 = nn.BatchNorm2d(out_channels)\n",
    "        self.relu = nn.ReLU(inplace=True)\n",
    "        self.conv2 = nn.Conv2d(out_channels, out_channels, kernel_size=3, padding=1)\n",
    "        self.bn2 = nn.BatchNorm2d(out_channels)\n",
    "        self.adjust_channels = nn.Conv2d(in_channels, out_channels, kernel_size=1) if in_channels != out_channels else None\n",
    "\n",
    "    def forward(self, x):\n",
    "        residual = x\n",
    "        out = self.conv1(x)\n",
    "        out = self.bn1(out)\n",
    "        out = self.relu(out)\n",
    "        out = self.conv2(out)\n",
    "        out = self.bn2(out)\n",
    "\n",
    "        if self.adjust_channels:\n",
    "            residual = self.adjust_channels(residual)\n",
    "\n",
    "        out += residual\n",
    "        out = self.relu(out)\n",
    "        return out\n"
   ]
  },
  {
   "cell_type": "markdown",
   "id": "e9e2d60b",
   "metadata": {
    "papermill": {
     "duration": 0.007727,
     "end_time": "2024-06-17T19:06:29.917686",
     "exception": false,
     "start_time": "2024-06-17T19:06:29.909959",
     "status": "completed"
    },
    "tags": []
   },
   "source": [
    "# ***DOWNSAMPLING***"
   ]
  },
  {
   "cell_type": "code",
   "execution_count": 4,
   "id": "02641131",
   "metadata": {
    "execution": {
     "iopub.execute_input": "2024-06-17T19:06:29.933254Z",
     "iopub.status.busy": "2024-06-17T19:06:29.932702Z",
     "iopub.status.idle": "2024-06-17T19:06:29.937917Z",
     "shell.execute_reply": "2024-06-17T19:06:29.937085Z"
    },
    "papermill": {
     "duration": 0.014848,
     "end_time": "2024-06-17T19:06:29.939708",
     "exception": false,
     "start_time": "2024-06-17T19:06:29.924860",
     "status": "completed"
    },
    "tags": []
   },
   "outputs": [],
   "source": [
    "class Down(nn.Module):\n",
    "    def __init__(self, in_channels, out_channels):\n",
    "        super(Down, self).__init__()\n",
    "        self.pool = nn.MaxPool2d(2)\n",
    "        self.residual_block = ResidualBlock(in_channels, out_channels)\n",
    "\n",
    "    def forward(self, x):\n",
    "        x = self.pool(x)\n",
    "        x = self.residual_block(x)\n",
    "        return x\n"
   ]
  },
  {
   "cell_type": "markdown",
   "id": "e53f9993",
   "metadata": {
    "papermill": {
     "duration": 0.006962,
     "end_time": "2024-06-17T19:06:29.953798",
     "exception": false,
     "start_time": "2024-06-17T19:06:29.946836",
     "status": "completed"
    },
    "tags": []
   },
   "source": [
    "# ***UPSAMPLING***"
   ]
  },
  {
   "cell_type": "code",
   "execution_count": 5,
   "id": "1996dd2b",
   "metadata": {
    "execution": {
     "iopub.execute_input": "2024-06-17T19:06:29.969256Z",
     "iopub.status.busy": "2024-06-17T19:06:29.968991Z",
     "iopub.status.idle": "2024-06-17T19:06:29.975631Z",
     "shell.execute_reply": "2024-06-17T19:06:29.974915Z"
    },
    "papermill": {
     "duration": 0.016507,
     "end_time": "2024-06-17T19:06:29.977523",
     "exception": false,
     "start_time": "2024-06-17T19:06:29.961016",
     "status": "completed"
    },
    "tags": []
   },
   "outputs": [],
   "source": [
    "class Up(nn.Module):\n",
    "    def __init__(self, in_channels, out_channels):\n",
    "        super(Up, self).__init__()\n",
    "        self.up = nn.ConvTranspose2d(in_channels // 2, in_channels // 2, kernel_size=2, stride=2)\n",
    "        self.residual_block = ResidualBlock(in_channels, out_channels)\n",
    "\n",
    "    def forward(self, x1, x2):\n",
    "        x1 = self.up(x1)\n",
    "        diffY = x2.size()[2] - x1.size()[2]\n",
    "        diffX = x2.size()[3] - x1.size()[3]\n",
    "        x1 = F.pad(x1, [diffX // 2, diffX - diffX // 2,\n",
    "                        diffY // 2, diffY - diffY // 2])\n",
    "        x = torch.cat([x2, x1], dim=1)\n",
    "        return self.residual_block(x)\n"
   ]
  },
  {
   "cell_type": "markdown",
   "id": "e8ff3376",
   "metadata": {
    "papermill": {
     "duration": 0.007009,
     "end_time": "2024-06-17T19:06:29.991636",
     "exception": false,
     "start_time": "2024-06-17T19:06:29.984627",
     "status": "completed"
    },
    "tags": []
   },
   "source": [
    "**OUTERMOST LAYER**"
   ]
  },
  {
   "cell_type": "code",
   "execution_count": 6,
   "id": "fd16436e",
   "metadata": {
    "execution": {
     "iopub.execute_input": "2024-06-17T19:06:30.007188Z",
     "iopub.status.busy": "2024-06-17T19:06:30.006938Z",
     "iopub.status.idle": "2024-06-17T19:06:30.011945Z",
     "shell.execute_reply": "2024-06-17T19:06:30.011108Z"
    },
    "papermill": {
     "duration": 0.014812,
     "end_time": "2024-06-17T19:06:30.013813",
     "exception": false,
     "start_time": "2024-06-17T19:06:29.999001",
     "status": "completed"
    },
    "tags": []
   },
   "outputs": [],
   "source": [
    "class OutConv(nn.Module):\n",
    "    def __init__(self, in_channels, out_channels):\n",
    "        super(OutConv, self).__init__()\n",
    "        self.conv = nn.Conv2d(in_channels, out_channels, kernel_size=1)\n",
    "\n",
    "    def forward(self, x):\n",
    "        return self.conv(x)\n"
   ]
  },
  {
   "cell_type": "markdown",
   "id": "3283e7dd",
   "metadata": {
    "papermill": {
     "duration": 0.007381,
     "end_time": "2024-06-17T19:06:30.028512",
     "exception": false,
     "start_time": "2024-06-17T19:06:30.021131",
     "status": "completed"
    },
    "tags": []
   },
   "source": [
    "# **U-NET CLASS**"
   ]
  },
  {
   "cell_type": "code",
   "execution_count": 7,
   "id": "e016fa8d",
   "metadata": {
    "execution": {
     "iopub.execute_input": "2024-06-17T19:06:30.043999Z",
     "iopub.status.busy": "2024-06-17T19:06:30.043697Z",
     "iopub.status.idle": "2024-06-17T19:06:30.052997Z",
     "shell.execute_reply": "2024-06-17T19:06:30.052153Z"
    },
    "papermill": {
     "duration": 0.019163,
     "end_time": "2024-06-17T19:06:30.054800",
     "exception": false,
     "start_time": "2024-06-17T19:06:30.035637",
     "status": "completed"
    },
    "tags": []
   },
   "outputs": [],
   "source": [
    "class UNet(nn.Module):\n",
    "    def __init__(self, n_channels, n_classes):\n",
    "        super(UNet, self).__init__()\n",
    "        self.n_channels = n_channels\n",
    "        self.n_classes = n_classes\n",
    "\n",
    "        self.inc = ResidualBlock(n_channels, 64)\n",
    "        self.down1 = Down(64, 128)\n",
    "        self.down2 = Down(128, 256)\n",
    "        self.down3 = Down(256, 512)\n",
    "        self.down4 = Down(512, 512)\n",
    "        self.down5 = Down(512, 512)\n",
    "        self.up1 = Up(1024, 512)\n",
    "        self.up2 = Up(1024, 256)\n",
    "        self.up3 = Up(512, 128)\n",
    "        self.up4 = Up(256, 64)\n",
    "        self.up5 = Up(128, 64)\n",
    "        self.outc = OutConv(64, n_classes)\n",
    "\n",
    "    def forward(self, x):\n",
    "        x1 = self.inc(x)\n",
    "        x2 = self.down1(x1)\n",
    "        x3 = self.down2(x2)\n",
    "        x4 = self.down3(x3)\n",
    "        x5 = self.down4(x4)\n",
    "        x6 = self.down5(x5)\n",
    "        x = self.up1(x6, x5)\n",
    "        x = self.up2(x, x4)\n",
    "        x = self.up3(x, x3)\n",
    "        x = self.up4(x, x2)\n",
    "        x = self.up5(x, x1)\n",
    "        logits = self.outc(x)\n",
    "        return torch.sigmoid(logits)"
   ]
  },
  {
   "cell_type": "markdown",
   "id": "107e37db",
   "metadata": {
    "papermill": {
     "duration": 0.007112,
     "end_time": "2024-06-17T19:06:30.069015",
     "exception": false,
     "start_time": "2024-06-17T19:06:30.061903",
     "status": "completed"
    },
    "tags": []
   },
   "source": [
    "# ***DATASET PATHS***"
   ]
  },
  {
   "cell_type": "code",
   "execution_count": 8,
   "id": "c6e45134",
   "metadata": {
    "execution": {
     "iopub.execute_input": "2024-06-17T19:06:30.084575Z",
     "iopub.status.busy": "2024-06-17T19:06:30.083939Z",
     "iopub.status.idle": "2024-06-17T19:06:30.087938Z",
     "shell.execute_reply": "2024-06-17T19:06:30.087132Z"
    },
    "papermill": {
     "duration": 0.013656,
     "end_time": "2024-06-17T19:06:30.089746",
     "exception": false,
     "start_time": "2024-06-17T19:06:30.076090",
     "status": "completed"
    },
    "tags": []
   },
   "outputs": [],
   "source": [
    "train_low_image_directory = '/kaggle/input/loldataset-2/LOLdataset/our485/low'\n",
    "train_high_image_directory = '/kaggle/input/loldataset-2/LOLdataset/our485/high'\n",
    "eval_low_image_directory = '/kaggle/input/loldataset-2/LOLdataset/eval15/low'\n",
    "eval_high_image_directory = '/kaggle/input/loldataset-2/LOLdataset/eval15/high'"
   ]
  },
  {
   "cell_type": "markdown",
   "id": "a174b614",
   "metadata": {
    "papermill": {
     "duration": 0.006984,
     "end_time": "2024-06-17T19:06:30.103776",
     "exception": false,
     "start_time": "2024-06-17T19:06:30.096792",
     "status": "completed"
    },
    "tags": []
   },
   "source": [
    "****IMAGE PATHS LISTING****"
   ]
  },
  {
   "cell_type": "code",
   "execution_count": 9,
   "id": "0c2b5c74",
   "metadata": {
    "execution": {
     "iopub.execute_input": "2024-06-17T19:06:30.118929Z",
     "iopub.status.busy": "2024-06-17T19:06:30.118637Z",
     "iopub.status.idle": "2024-06-17T19:06:30.268001Z",
     "shell.execute_reply": "2024-06-17T19:06:30.267248Z"
    },
    "papermill": {
     "duration": 0.159297,
     "end_time": "2024-06-17T19:06:30.270127",
     "exception": false,
     "start_time": "2024-06-17T19:06:30.110830",
     "status": "completed"
    },
    "tags": []
   },
   "outputs": [],
   "source": [
    "train_low_image_paths = [os.path.join(train_low_image_directory, img) for img in os.listdir(train_low_image_directory) if img.endswith('.png')]\n",
    "train_high_image_paths = [os.path.join(train_high_image_directory, img) for img in os.listdir(train_high_image_directory) if img.endswith('.png')]\n",
    "\n",
    "eval_low_image_paths = [os.path.join(eval_low_image_directory, img) for img in os.listdir(eval_low_image_directory) if img.endswith('.png')]\n",
    "eval_high_image_paths = [os.path.join(eval_high_image_directory, img) for img in os.listdir(eval_high_image_directory) if img.endswith('.png')]"
   ]
  },
  {
   "cell_type": "markdown",
   "id": "a7582e5f",
   "metadata": {
    "papermill": {
     "duration": 0.007162,
     "end_time": "2024-06-17T19:06:30.284909",
     "exception": false,
     "start_time": "2024-06-17T19:06:30.277747",
     "status": "completed"
    },
    "tags": []
   },
   "source": [
    "# ******LOADING THE DATA******"
   ]
  },
  {
   "cell_type": "code",
   "execution_count": 10,
   "id": "23d30b79",
   "metadata": {
    "execution": {
     "iopub.execute_input": "2024-06-17T19:06:30.300362Z",
     "iopub.status.busy": "2024-06-17T19:06:30.300083Z",
     "iopub.status.idle": "2024-06-17T19:06:30.306044Z",
     "shell.execute_reply": "2024-06-17T19:06:30.305269Z"
    },
    "papermill": {
     "duration": 0.015783,
     "end_time": "2024-06-17T19:06:30.307832",
     "exception": false,
     "start_time": "2024-06-17T19:06:30.292049",
     "status": "completed"
    },
    "tags": []
   },
   "outputs": [],
   "source": [
    "gamma_value = 2.2\n",
    "\n",
    "transform = transforms.Compose([\n",
    "    transforms.Resize((150, 150)),\n",
    "    transforms.ToTensor(),\n",
    "])\n",
    "\n",
    "train_dataset = CustomDataset(train_low_image_paths, train_high_image_paths, transform=transform, gamma=gamma_value)\n",
    "train_loader = DataLoader(train_dataset, batch_size=4, shuffle=True)\n",
    "\n",
    "eval_dataset = CustomDataset(eval_low_image_paths, eval_high_image_paths, transform=transform, gamma=gamma_value)\n",
    "eval_loader = DataLoader(eval_dataset, batch_size=4, shuffle=False)\n"
   ]
  },
  {
   "cell_type": "markdown",
   "id": "9f370b51",
   "metadata": {
    "papermill": {
     "duration": 0.006918,
     "end_time": "2024-06-17T19:06:30.321830",
     "exception": false,
     "start_time": "2024-06-17T19:06:30.314912",
     "status": "completed"
    },
    "tags": []
   },
   "source": [
    "***SCHEDULING AND OPTIMIZATION***"
   ]
  },
  {
   "cell_type": "code",
   "execution_count": 11,
   "id": "17874376",
   "metadata": {
    "execution": {
     "iopub.execute_input": "2024-06-17T19:06:30.337298Z",
     "iopub.status.busy": "2024-06-17T19:06:30.337029Z",
     "iopub.status.idle": "2024-06-17T19:06:32.110958Z",
     "shell.execute_reply": "2024-06-17T19:06:32.109992Z"
    },
    "papermill": {
     "duration": 1.784274,
     "end_time": "2024-06-17T19:06:32.113318",
     "exception": false,
     "start_time": "2024-06-17T19:06:30.329044",
     "status": "completed"
    },
    "tags": []
   },
   "outputs": [],
   "source": [
    "num_models = 5\n",
    "models = [UNet(n_channels=3, n_classes=3).cuda() for _ in range(num_models)]\n",
    "criterion = nn.MSELoss()\n",
    "optimizers = [optim.AdamW(model.parameters(), lr=0.0001, weight_decay=1e-4) for model in models]\n",
    "schedulers = [optim.lr_scheduler.ReduceLROnPlateau(optimizer, 'min', patience=2, factor=0.5) for optimizer in optimizers]\n"
   ]
  },
  {
   "cell_type": "markdown",
   "id": "057be9a5",
   "metadata": {
    "papermill": {
     "duration": 0.007425,
     "end_time": "2024-06-17T19:06:32.128245",
     "exception": false,
     "start_time": "2024-06-17T19:06:32.120820",
     "status": "completed"
    },
    "tags": []
   },
   "source": [
    "# ****TRAINING FUNCTION****"
   ]
  },
  {
   "cell_type": "code",
   "execution_count": 12,
   "id": "e6ee219d",
   "metadata": {
    "execution": {
     "iopub.execute_input": "2024-06-17T19:06:32.143906Z",
     "iopub.status.busy": "2024-06-17T19:06:32.143573Z",
     "iopub.status.idle": "2024-06-17T19:06:32.151334Z",
     "shell.execute_reply": "2024-06-17T19:06:32.150430Z"
    },
    "papermill": {
     "duration": 0.017886,
     "end_time": "2024-06-17T19:06:32.153149",
     "exception": false,
     "start_time": "2024-06-17T19:06:32.135263",
     "status": "completed"
    },
    "tags": []
   },
   "outputs": [],
   "source": [
    "def train(model, criterion, optimizer, loader, scaler, accumulation_steps=1, max_norm=1.0):\n",
    "    model.train()\n",
    "    running_loss = 0.0\n",
    "    optimizer.zero_grad()\n",
    "    for i, (low, high) in enumerate(loader):\n",
    "        low = low.cuda()\n",
    "        high = high.cuda()\n",
    "        with torch.cuda.amp.autocast():\n",
    "            outputs = model(low)\n",
    "            loss = criterion(outputs, high) / accumulation_steps\n",
    "        scaler.scale(loss).backward()\n",
    "        if (i + 1) % accumulation_steps == 0:\n",
    "            scaler.unscale_(optimizer)\n",
    "            torch.nn.utils.clip_grad_norm_(model.parameters(), max_norm)\n",
    "            scaler.step(optimizer)\n",
    "            scaler.update()\n",
    "            optimizer.zero_grad()\n",
    "        running_loss += loss.item() * accumulation_steps\n",
    "    epoch_loss = running_loss / len(loader)\n",
    "    return epoch_loss"
   ]
  },
  {
   "cell_type": "markdown",
   "id": "dedb600d",
   "metadata": {
    "papermill": {
     "duration": 0.006909,
     "end_time": "2024-06-17T19:06:32.167190",
     "exception": false,
     "start_time": "2024-06-17T19:06:32.160281",
     "status": "completed"
    },
    "tags": []
   },
   "source": [
    "# ****EVALUATION FUNCTION****"
   ]
  },
  {
   "cell_type": "code",
   "execution_count": 13,
   "id": "a20c6e46",
   "metadata": {
    "execution": {
     "iopub.execute_input": "2024-06-17T19:06:32.182502Z",
     "iopub.status.busy": "2024-06-17T19:06:32.182227Z",
     "iopub.status.idle": "2024-06-17T19:06:32.189901Z",
     "shell.execute_reply": "2024-06-17T19:06:32.189057Z"
    },
    "papermill": {
     "duration": 0.017452,
     "end_time": "2024-06-17T19:06:32.191736",
     "exception": false,
     "start_time": "2024-06-17T19:06:32.174284",
     "status": "completed"
    },
    "tags": []
   },
   "outputs": [],
   "source": [
    "def evaluate(model, criterion, loader):\n",
    "    model.eval()\n",
    "    running_loss = 0.0\n",
    "    psnr_list = []\n",
    "    with torch.no_grad():\n",
    "        for low, high in loader:\n",
    "            low = low.cuda()\n",
    "            high = high.cuda()\n",
    "            outputs = model(low)\n",
    "            loss = criterion(outputs, high)\n",
    "            running_loss += loss.item()\n",
    "            outputs = outputs.permute(0, 2, 3, 1).cpu().numpy()\n",
    "            high = high.permute(0, 2, 3, 1).cpu().numpy()\n",
    "            for i in range(outputs.shape[0]):\n",
    "                psnr_list.append(psnr(outputs[i], high[i]))\n",
    "    epoch_loss = running_loss / len(loader)\n",
    "    epoch_psnr = np.mean(psnr_list)\n",
    "    return epoch_loss, epoch_psnr"
   ]
  },
  {
   "cell_type": "markdown",
   "id": "538ece6c",
   "metadata": {
    "papermill": {
     "duration": 0.00696,
     "end_time": "2024-06-17T19:06:32.205773",
     "exception": false,
     "start_time": "2024-06-17T19:06:32.198813",
     "status": "completed"
    },
    "tags": []
   },
   "source": [
    "# ***TRAINING LOOP***"
   ]
  },
  {
   "cell_type": "code",
   "execution_count": 14,
   "id": "142c7215",
   "metadata": {
    "execution": {
     "iopub.execute_input": "2024-06-17T19:06:32.221047Z",
     "iopub.status.busy": "2024-06-17T19:06:32.220793Z",
     "iopub.status.idle": "2024-06-17T20:12:00.838944Z",
     "shell.execute_reply": "2024-06-17T20:12:00.837944Z"
    },
    "papermill": {
     "duration": 3928.637422,
     "end_time": "2024-06-17T20:12:00.850277",
     "exception": false,
     "start_time": "2024-06-17T19:06:32.212855",
     "status": "completed"
    },
    "tags": []
   },
   "outputs": [
    {
     "name": "stdout",
     "output_type": "stream",
     "text": [
      "Epoch [1/30] - Avg Train Loss: 0.0580, Best Val Loss: 0.0018, Best PSNR: 28.1381\n",
      "Epoch [2/30] - Avg Train Loss: 0.0050, Best Val Loss: 0.0014, Best PSNR: 29.1571\n",
      "Epoch [3/30] - Avg Train Loss: 0.0042, Best Val Loss: 0.0013, Best PSNR: 29.6130\n",
      "Epoch [4/30] - Avg Train Loss: 0.0040, Best Val Loss: 0.0013, Best PSNR: 29.6329\n",
      "Epoch [5/30] - Avg Train Loss: 0.0019, Best Val Loss: 0.0011, Best PSNR: 30.4243\n",
      "Epoch [6/30] - Avg Train Loss: 0.0013, Best Val Loss: 0.0012, Best PSNR: 30.1823\n",
      "Epoch [7/30] - Avg Train Loss: 0.0013, Best Val Loss: 0.0011, Best PSNR: 30.4796\n",
      "Epoch [8/30] - Avg Train Loss: 0.0012, Best Val Loss: 0.0010, Best PSNR: 30.8543\n",
      "Epoch [9/30] - Avg Train Loss: 0.0012, Best Val Loss: 0.0010, Best PSNR: 30.8088\n",
      "Epoch [10/30] - Avg Train Loss: 0.0011, Best Val Loss: 0.0010, Best PSNR: 31.1178\n",
      "Epoch [11/30] - Avg Train Loss: 0.0011, Best Val Loss: 0.0009, Best PSNR: 31.2321\n",
      "Epoch [12/30] - Avg Train Loss: 0.0011, Best Val Loss: 0.0009, Best PSNR: 31.3324\n",
      "Epoch [13/30] - Avg Train Loss: 0.0011, Best Val Loss: 0.0009, Best PSNR: 31.5450\n",
      "Epoch [14/30] - Avg Train Loss: 0.0010, Best Val Loss: 0.0009, Best PSNR: 31.4072\n",
      "Epoch [15/30] - Avg Train Loss: 0.0010, Best Val Loss: 0.0009, Best PSNR: 31.2717\n",
      "Epoch [16/30] - Avg Train Loss: 0.0010, Best Val Loss: 0.0009, Best PSNR: 31.5005\n",
      "Epoch [17/30] - Avg Train Loss: 0.0010, Best Val Loss: 0.0008, Best PSNR: 32.0609\n",
      "Epoch [18/30] - Avg Train Loss: 0.0009, Best Val Loss: 0.0009, Best PSNR: 31.4211\n",
      "Epoch [19/30] - Avg Train Loss: 0.0009, Best Val Loss: 0.0008, Best PSNR: 32.0093\n",
      "Epoch [20/30] - Avg Train Loss: 0.0009, Best Val Loss: 0.0008, Best PSNR: 31.8665\n",
      "Epoch [21/30] - Avg Train Loss: 0.0009, Best Val Loss: 0.0007, Best PSNR: 32.4808\n",
      "Epoch [22/30] - Avg Train Loss: 0.0008, Best Val Loss: 0.0008, Best PSNR: 31.9800\n",
      "Epoch [23/30] - Avg Train Loss: 0.0008, Best Val Loss: 0.0007, Best PSNR: 32.4388\n",
      "Epoch [24/30] - Avg Train Loss: 0.0008, Best Val Loss: 0.0007, Best PSNR: 32.3348\n",
      "Epoch [25/30] - Avg Train Loss: 0.0008, Best Val Loss: 0.0007, Best PSNR: 32.3694\n",
      "Epoch [26/30] - Avg Train Loss: 0.0008, Best Val Loss: 0.0007, Best PSNR: 32.5698\n",
      "Epoch [27/30] - Avg Train Loss: 0.0008, Best Val Loss: 0.0007, Best PSNR: 32.6861\n",
      "Epoch [28/30] - Avg Train Loss: 0.0007, Best Val Loss: 0.0007, Best PSNR: 32.6229\n",
      "Epoch [29/30] - Avg Train Loss: 0.0007, Best Val Loss: 0.0007, Best PSNR: 32.7539\n",
      "Epoch [30/30] - Avg Train Loss: 0.0007, Best Val Loss: 0.0007, Best PSNR: 32.7973\n",
      "Average PSNR over all epochs: 31.3696\n"
     ]
    }
   ],
   "source": [
    "num_epochs = 30\n",
    "scaler = torch.cuda.amp.GradScaler()\n",
    "accumulation_steps = 1\n",
    "max_norm = 1.0\n",
    "all_psnrs = []\n",
    "\n",
    "for epoch in range(num_epochs):\n",
    "    train_losses = []\n",
    "    for model, optimizer in zip(models, optimizers):\n",
    "        train_loss = train(model, criterion, optimizer, train_loader, scaler, accumulation_steps=accumulation_steps, max_norm=max_norm)\n",
    "        train_losses.append(train_loss)\n",
    "    avg_train_loss = np.mean(train_losses)\n",
    "    val_losses = []\n",
    "    psnr_values = []\n",
    "    for model in models:\n",
    "        val_loss, avg_psnr = evaluate(model, criterion, eval_loader)\n",
    "        val_losses.append(val_loss)\n",
    "        psnr_values.append(avg_psnr)\n",
    "    best_model_idx = np.argmin(val_losses)\n",
    "    best_val_loss = val_losses[best_model_idx]\n",
    "    best_psnr = psnr_values[best_model_idx]\n",
    "    all_psnrs.append(best_psnr)\n",
    "    print(f\"Epoch [{epoch+1}/{num_epochs}] - Avg Train Loss: {avg_train_loss:.4f}, Best Val Loss: {best_val_loss:.4f}, Best PSNR: {best_psnr:.4f}\")\n",
    "    for scheduler, val_loss in zip(schedulers, val_losses):\n",
    "        scheduler.step(val_loss)\n",
    "\n",
    "average_psnr = np.mean(all_psnrs)\n",
    "print(f\"Average PSNR over all epochs: {average_psnr:.4f}\")\n"
   ]
  },
  {
   "cell_type": "markdown",
   "id": "0329dac2",
   "metadata": {
    "papermill": {
     "duration": 0.010528,
     "end_time": "2024-06-17T20:12:00.870177",
     "exception": false,
     "start_time": "2024-06-17T20:12:00.859649",
     "status": "completed"
    },
    "tags": []
   },
   "source": [
    " # ***GRAPH PLOT***"
   ]
  },
  {
   "cell_type": "code",
   "execution_count": 15,
   "id": "e09543f2",
   "metadata": {
    "execution": {
     "iopub.execute_input": "2024-06-17T20:12:00.890070Z",
     "iopub.status.busy": "2024-06-17T20:12:00.889744Z",
     "iopub.status.idle": "2024-06-17T20:12:01.108646Z",
     "shell.execute_reply": "2024-06-17T20:12:01.107767Z"
    },
    "papermill": {
     "duration": 0.231238,
     "end_time": "2024-06-17T20:12:01.110628",
     "exception": false,
     "start_time": "2024-06-17T20:12:00.879390",
     "status": "completed"
    },
    "tags": []
   },
   "outputs": [
    {
     "data": {
      "image/png": "[encoded data removed]",
      "text/plain": [
       "<Figure size 640x480 with 1 Axes>"
      ]
     },
     "metadata": {},
     "output_type": "display_data"
    }
   ],
   "source": [
    "import matplotlib.pyplot as plt\n",
    "\n",
    "# Plot PSNR values over epochs\n",
    "plt.plot(range(1, num_epochs+1), all_psnrs, marker='o')\n",
    "plt.xlabel('Epoch')\n",
    "plt.ylabel('PSNR')\n",
    "plt.title('PSNR over Epochs')\n",
    "plt.grid(True)\n",
    "plt.show()\n"
   ]
  },
  {
   "cell_type": "code",
   "execution_count": null,
   "id": "14e99995",
   "metadata": {
    "papermill": {
     "duration": 0.010484,
     "end_time": "2024-06-17T20:12:01.131609",
     "exception": false,
     "start_time": "2024-06-17T20:12:01.121125",
     "status": "completed"
    },
    "tags": []
   },
   "outputs": [],
   "source": []
  }
 ],
 "metadata": {
  "kaggle": {
   "accelerator": "gpu",
   "dataSources": [
    {
     "datasetId": 5198110,
     "sourceId": 8672927,
     "sourceType": "datasetVersion"
    }
   ],
   "dockerImageVersionId": 30733,
   "isGpuEnabled": true,
   "isInternetEnabled": true,
   "language": "python",
   "sourceType": "notebook"
  },
  "kernelspec": {
   "display_name": "Python 3",
   "language": "python",
   "name": "python3"
  },
  "language_info": {
   "codemirror_mode": {
    "name": "ipython",
    "version": 3
   },
   "file_extension": ".py",
   "mimetype": "text/x-python",
   "name": "python",
   "nbconvert_exporter": "python",
   "pygments_lexer": "ipython3",
   "version": "3.10.13"
  },
  "papermill": {
   "default_parameters": {},
   "duration": 3941.845581,
   "end_time": "2024-06-17T20:12:02.571546",
   "environment_variables": {},
   "exception": null,
   "input_path": "__notebook__.ipynb",
   "output_path": "__notebook__.ipynb",
   "parameters": {},
   "start_time": "2024-06-17T19:06:20.725965",
   "version": "2.5.0"
  }
 },
 "nbformat": 4,
 "nbformat_minor": 5
}
